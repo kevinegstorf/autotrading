{
 "cells": [
  {
   "cell_type": "code",
   "execution_count": 1,
   "id": "2a6ca2a4-170b-47e3-95a3-1d7e325eb932",
   "metadata": {},
   "outputs": [
    {
     "name": "stdout",
     "output_type": "stream",
     "text": [
      "Python version: 3.11.13 | packaged by conda-forge | (main, Jun  4 2025, 14:52:34) [Clang 18.1.8 ]\n",
      "NumPy: 2.3.2\n",
      "Pandas: 2.3.2\n",
      "Matplotlib: 3.10.5\n",
      "scikit-learn: 1.7.1\n"
     ]
    },
    {
     "name": "stderr",
     "output_type": "stream",
     "text": [
      "Matplotlib is building the font cache; this may take a moment.\n"
     ]
    },
    {
     "name": "stdout",
     "output_type": "stream",
     "text": [
      "Seaborn: 0.13.2\n",
      "SciPy: 1.16.1\n",
      "Statsmodels: 0.14.5\n"
     ]
    }
   ],
   "source": [
    "import sys\n",
    "print(\"Python version:\", sys.version)\n",
    "\n",
    "import numpy as np\n",
    "print(\"NumPy:\", np.__version__)\n",
    "\n",
    "import pandas as pd\n",
    "print(\"Pandas:\", pd.__version__)\n",
    "\n",
    "import matplotlib\n",
    "print(\"Matplotlib:\", matplotlib.__version__)\n",
    "\n",
    "import sklearn\n",
    "print(\"scikit-learn:\", sklearn.__version__)\n",
    "\n",
    "import seaborn as sns\n",
    "print(\"Seaborn:\", sns.__version__)\n",
    "\n",
    "import scipy\n",
    "print(\"SciPy:\", scipy.__version__)\n",
    "\n",
    "import statsmodels\n",
    "print(\"Statsmodels:\", statsmodels.__version__)\n",
    "\n"
   ]
  },
  {
   "cell_type": "code",
   "execution_count": null,
   "id": "d1ef4cae-fc90-4e09-bb37-a46ac07f0b4c",
   "metadata": {},
   "outputs": [],
   "source": []
  }
 ],
 "metadata": {
  "kernelspec": {
   "display_name": "Python (ds)",
   "language": "python",
   "name": "ds"
  },
  "language_info": {
   "codemirror_mode": {
    "name": "ipython",
    "version": 3
   },
   "file_extension": ".py",
   "mimetype": "text/x-python",
   "name": "python",
   "nbconvert_exporter": "python",
   "pygments_lexer": "ipython3",
   "version": "3.11.13"
  }
 },
 "nbformat": 4,
 "nbformat_minor": 5
}
